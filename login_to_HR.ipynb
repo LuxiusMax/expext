{
 "cells": [
  {
   "cell_type": "code",
   "execution_count": 4,
   "id": "7e9969a0",
   "metadata": {},
   "outputs": [
    {
     "name": "stdout",
     "output_type": "stream",
     "text": [
      "<Response [403]>\n"
     ]
    }
   ],
   "source": [
    "import requests\n",
    "\n",
    "url = 'https://www.meku-app.co.il/public/myhr'\n",
    "values = {'username': 'Pavel@shimone.com',\n",
    "          'password': 'Pavel2024'}\n",
    "\n",
    "r = requests.post(url, data=values)\n",
    "print(r)"
   ]
  }
 ],
 "metadata": {
  "kernelspec": {
   "display_name": "Python 3",
   "language": "python",
   "name": "python3"
  },
  "language_info": {
   "codemirror_mode": {
    "name": "ipython",
    "version": 3
   },
   "file_extension": ".py",
   "mimetype": "text/x-python",
   "name": "python",
   "nbconvert_exporter": "python",
   "pygments_lexer": "ipython3",
   "version": "3.12.7"
  }
 },
 "nbformat": 4,
 "nbformat_minor": 5
}
